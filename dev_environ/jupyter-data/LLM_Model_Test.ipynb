{
 "cells": [
  {
   "cell_type": "code",
   "execution_count": null,
   "id": "e0c4c1d4-10f6-40c7-8182-15eda3da9995",
   "metadata": {},
   "outputs": [],
   "source": [
    "from ollama_oracle import Oracle"
   ]
  },
  {
   "cell_type": "code",
   "execution_count": null,
   "id": "5b7d1701-b3c1-4785-b5c8-2c4e60b931de",
   "metadata": {},
   "outputs": [],
   "source": [
    "models = [\n",
    "    \"llama3.2:3b\",\n",
    "    \"llama3.1:8b\",\n",
    "    \"gemma3:12b\",\n",
    "    \"qwen3:8b\"]"
   ]
  },
  {
   "cell_type": "code",
   "execution_count": null,
   "id": "5c295c20-7a60-48eb-809a-3a583099638e",
   "metadata": {},
   "outputs": [],
   "source": [
    "fin = open(\"./test_queries_1.txt\", 'r')\n",
    "prompts = fin.readlines()"
   ]
  },
  {
   "cell_type": "code",
   "execution_count": null,
   "id": "e3e23169-027a-4274-9bea-41656f5593d6",
   "metadata": {},
   "outputs": [],
   "source": [
    "fout_dir = \"./test_outputs/\"\n",
    "num_tests = 25"
   ]
  },
  {
   "cell_type": "code",
   "execution_count": null,
   "id": "f1517daa-1a0d-418f-a89d-8cc8a379adea",
   "metadata": {},
   "outputs": [],
   "source": [
    "for i in range(0, num_tests):\n",
    "    fout = open(fout_dir + \"test_output_%s.txt\" % i, 'w')\n",
    "    print(\"Running test #%s:\" % i)\n",
    "    \n",
    "    for model in models:\n",
    "        oracle = Oracle(\"http://host.docker.internal:11434\", model)\n",
    "        fout.write(\"<%s>\\n\" % model)\n",
    "        \n",
    "        for i, p in enumerate(prompts):\n",
    "            print(\"\\tSending prompt #%s to %s\" % (i, model))\n",
    "            fout.write(\"<test%s>\\n\" % i)\n",
    "            fout.write(\"<prompt>\\n%s</prompt>\\n\" % p)\n",
    "            fout.write(\"<response>\\n\")\n",
    "            response = oracle.query(p)\n",
    "            fout.write(\"%s\\n\" % response)\n",
    "            fout.write(\"</response>\\n\")\n",
    "            fout.write(\"</test%s>\\n\" % i)\n",
    "            \n",
    "        fout.write(\"</%s>\\n\" % model)\n",
    "    fout.close()"
   ]
  },
  {
   "cell_type": "code",
   "execution_count": null,
   "id": "a1036b21-ba5a-43a1-8929-3a368e594bad",
   "metadata": {},
   "outputs": [],
   "source": []
  }
 ],
 "metadata": {
  "kernelspec": {
   "display_name": "Python 3 (ipykernel)",
   "language": "python",
   "name": "python3"
  },
  "language_info": {
   "codemirror_mode": {
    "name": "ipython",
    "version": 3
   },
   "file_extension": ".py",
   "mimetype": "text/x-python",
   "name": "python",
   "nbconvert_exporter": "python",
   "pygments_lexer": "ipython3",
   "version": "3.12.10"
  }
 },
 "nbformat": 4,
 "nbformat_minor": 5
}
