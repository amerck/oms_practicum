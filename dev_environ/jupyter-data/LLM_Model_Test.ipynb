{
 "cells": [
  {
   "cell_type": "code",
   "execution_count": null,
   "id": "4fb8e98f-5cdd-4a78-9b3c-002ab5dab410",
   "metadata": {},
   "outputs": [],
   "source": [
    "import json\n",
    "import requests\n",
    "\n",
    "class Oracle:\n",
    "\n",
    "    def __init__(self, url, model):\n",
    "        self.base_url = url\n",
    "        self.model = model\n",
    "        self.context = None\n",
    "\n",
    "    def query_model(self, prompt):\n",
    "        session = requests.Session()\n",
    "        \n",
    "        headers = {'Content-Type': 'application/json'}\n",
    "        url = '%s/api/generate' % self.base_url\n",
    "        data = {\"model\": self.model, \"prompt\": prompt, \"stream\":True, \"context\": self.context}\n",
    "\n",
    "        r = session.post(url, headers=headers, data=json.dumps(data), stream=True)\n",
    "        for line in r.iter_lines():\n",
    "            if line:\n",
    "                token = json.loads(line)['response']\n",
    "                print(token, end='')\n",
    "        self.context = json.loads(line)['context']"
   ]
  },
  {
   "cell_type": "code",
   "execution_count": null,
   "id": "5b7d1701-b3c1-4785-b5c8-2c4e60b931de",
   "metadata": {},
   "outputs": [],
   "source": [
    "models = [\n",
    "    \"gemma3:12b\",\n",
    "    \"qwen3:8b\"]"
   ]
  },
  {
   "cell_type": "code",
   "execution_count": null,
   "id": "5c295c20-7a60-48eb-809a-3a583099638e",
   "metadata": {},
   "outputs": [],
   "source": [
    "fin = open(\"./test_queries_1.txt\", 'r')\n",
    "prompts = fin.readlines()"
   ]
  },
  {
   "cell_type": "code",
   "execution_count": null,
   "id": "f1517daa-1a0d-418f-a89d-8cc8a379adea",
   "metadata": {},
   "outputs": [],
   "source": [
    "for model in models:\n",
    "    oracle = Oracle(\"http://host.docker.internal:11434\", model)\n",
    "    print(\"<%s>\" % model)\n",
    "    for i, p in enumerate(prompts):\n",
    "        print(\"<test%s>\" % i)\n",
    "        print(\"<prompt>\\n%s</prompt>\" % p)\n",
    "        print(\"<response>\")\n",
    "        oracle.query_model(p)\n",
    "        print(\"</response>\")\n",
    "        print(\"</test%s>\" % i)\n",
    "    print(\"</%s>\" % model)"
   ]
  },
  {
   "cell_type": "code",
   "execution_count": null,
   "id": "2f6d8f4b-f180-4b82-961d-3dc4ba04a6fc",
   "metadata": {},
   "outputs": [],
   "source": []
  }
 ],
 "metadata": {
  "kernelspec": {
   "display_name": "Python 3 (ipykernel)",
   "language": "python",
   "name": "python3"
  },
  "language_info": {
   "codemirror_mode": {
    "name": "ipython",
    "version": 3
   },
   "file_extension": ".py",
   "mimetype": "text/x-python",
   "name": "python",
   "nbconvert_exporter": "python",
   "pygments_lexer": "ipython3",
   "version": "3.12.10"
  }
 },
 "nbformat": 4,
 "nbformat_minor": 5
}
