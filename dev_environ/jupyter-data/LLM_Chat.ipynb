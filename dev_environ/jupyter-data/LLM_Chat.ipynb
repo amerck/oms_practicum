{
 "cells": [
  {
   "cell_type": "code",
   "execution_count": null,
   "id": "4fb8e98f-5cdd-4a78-9b3c-002ab5dab410",
   "metadata": {},
   "outputs": [],
   "source": [
    "from ollama_client import OllamaClient"
   ]
  },
  {
   "cell_type": "code",
   "execution_count": null,
   "id": "5b7d1701-b3c1-4785-b5c8-2c4e60b931de",
   "metadata": {},
   "outputs": [],
   "source": [
    "client = OllamaClient(\"http://host.docker.internal:11434\", \"qwen3:8b\")"
   ]
  },
  {
   "cell_type": "code",
   "execution_count": null,
   "id": "01a75809-a4fa-4119-96a7-6099150fe508",
   "metadata": {},
   "outputs": [],
   "source": [
    "client.query_stream(\"Hello!\")"
   ]
  },
  {
   "cell_type": "code",
   "execution_count": null,
   "id": "35808d03-0a05-4047-8199-df8cf402b173",
   "metadata": {},
   "outputs": [],
   "source": [
    "client.query_stream(\"Can you tell me a bit more about yourself?\")"
   ]
  },
  {
   "cell_type": "code",
   "execution_count": null,
   "id": "403f16e7-e3c6-45c9-83d8-fe4ba648cc28",
   "metadata": {},
   "outputs": [],
   "source": [
    "client.query_stream(\"Can you tell me the previous two prompts I sent you?\")"
   ]
  },
  {
   "cell_type": "code",
   "execution_count": null,
   "id": "173a75ef-39d1-451f-a9b4-a84b5597e652",
   "metadata": {},
   "outputs": [],
   "source": []
  }
 ],
 "metadata": {
  "kernelspec": {
   "display_name": "Python 3 (ipykernel)",
   "language": "python",
   "name": "python3"
  },
  "language_info": {
   "codemirror_mode": {
    "name": "ipython",
    "version": 3
   },
   "file_extension": ".py",
   "mimetype": "text/x-python",
   "name": "python",
   "nbconvert_exporter": "python",
   "pygments_lexer": "ipython3",
   "version": "3.12.10"
  }
 },
 "nbformat": 4,
 "nbformat_minor": 5
}
